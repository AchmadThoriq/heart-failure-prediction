{
 "cells": [
  {
   "cell_type": "code",
   "execution_count": 49,
   "id": "4aace870",
   "metadata": {},
   "outputs": [
    {
     "data": {
      "text/html": [
       "<div>\n",
       "<style scoped>\n",
       "    .dataframe tbody tr th:only-of-type {\n",
       "        vertical-align: middle;\n",
       "    }\n",
       "\n",
       "    .dataframe tbody tr th {\n",
       "        vertical-align: top;\n",
       "    }\n",
       "\n",
       "    .dataframe thead th {\n",
       "        text-align: right;\n",
       "    }\n",
       "</style>\n",
       "<table border=\"1\" class=\"dataframe\">\n",
       "  <thead>\n",
       "    <tr style=\"text-align: right;\">\n",
       "      <th></th>\n",
       "      <th>Age</th>\n",
       "      <th>Sex</th>\n",
       "      <th>ChestPainType</th>\n",
       "      <th>RestingBP</th>\n",
       "      <th>Cholesterol</th>\n",
       "      <th>FastingBS</th>\n",
       "      <th>RestingECG</th>\n",
       "      <th>MaxHR</th>\n",
       "      <th>ExerciseAngina</th>\n",
       "      <th>Oldpeak</th>\n",
       "      <th>ST_Slope</th>\n",
       "      <th>HeartDisease</th>\n",
       "    </tr>\n",
       "  </thead>\n",
       "  <tbody>\n",
       "    <tr>\n",
       "      <th>0</th>\n",
       "      <td>40</td>\n",
       "      <td>M</td>\n",
       "      <td>ATA</td>\n",
       "      <td>140</td>\n",
       "      <td>289</td>\n",
       "      <td>0</td>\n",
       "      <td>Normal</td>\n",
       "      <td>172</td>\n",
       "      <td>N</td>\n",
       "      <td>0.0</td>\n",
       "      <td>Up</td>\n",
       "      <td>0</td>\n",
       "    </tr>\n",
       "    <tr>\n",
       "      <th>1</th>\n",
       "      <td>49</td>\n",
       "      <td>F</td>\n",
       "      <td>NAP</td>\n",
       "      <td>160</td>\n",
       "      <td>180</td>\n",
       "      <td>0</td>\n",
       "      <td>Normal</td>\n",
       "      <td>156</td>\n",
       "      <td>N</td>\n",
       "      <td>1.0</td>\n",
       "      <td>Flat</td>\n",
       "      <td>1</td>\n",
       "    </tr>\n",
       "    <tr>\n",
       "      <th>2</th>\n",
       "      <td>37</td>\n",
       "      <td>M</td>\n",
       "      <td>ATA</td>\n",
       "      <td>130</td>\n",
       "      <td>283</td>\n",
       "      <td>0</td>\n",
       "      <td>ST</td>\n",
       "      <td>98</td>\n",
       "      <td>N</td>\n",
       "      <td>0.0</td>\n",
       "      <td>Up</td>\n",
       "      <td>0</td>\n",
       "    </tr>\n",
       "    <tr>\n",
       "      <th>3</th>\n",
       "      <td>48</td>\n",
       "      <td>F</td>\n",
       "      <td>ASY</td>\n",
       "      <td>138</td>\n",
       "      <td>214</td>\n",
       "      <td>0</td>\n",
       "      <td>Normal</td>\n",
       "      <td>108</td>\n",
       "      <td>Y</td>\n",
       "      <td>1.5</td>\n",
       "      <td>Flat</td>\n",
       "      <td>1</td>\n",
       "    </tr>\n",
       "    <tr>\n",
       "      <th>4</th>\n",
       "      <td>54</td>\n",
       "      <td>M</td>\n",
       "      <td>NAP</td>\n",
       "      <td>150</td>\n",
       "      <td>195</td>\n",
       "      <td>0</td>\n",
       "      <td>Normal</td>\n",
       "      <td>122</td>\n",
       "      <td>N</td>\n",
       "      <td>0.0</td>\n",
       "      <td>Up</td>\n",
       "      <td>0</td>\n",
       "    </tr>\n",
       "  </tbody>\n",
       "</table>\n",
       "</div>"
      ],
      "text/plain": [
       "   Age Sex ChestPainType  RestingBP  Cholesterol  FastingBS RestingECG  MaxHR  \\\n",
       "0   40   M           ATA        140          289          0     Normal    172   \n",
       "1   49   F           NAP        160          180          0     Normal    156   \n",
       "2   37   M           ATA        130          283          0         ST     98   \n",
       "3   48   F           ASY        138          214          0     Normal    108   \n",
       "4   54   M           NAP        150          195          0     Normal    122   \n",
       "\n",
       "  ExerciseAngina  Oldpeak ST_Slope  HeartDisease  \n",
       "0              N      0.0       Up             0  \n",
       "1              N      1.0     Flat             1  \n",
       "2              N      0.0       Up             0  \n",
       "3              Y      1.5     Flat             1  \n",
       "4              N      0.0       Up             0  "
      ]
     },
     "execution_count": 49,
     "metadata": {},
     "output_type": "execute_result"
    }
   ],
   "source": [
    "import pandas as pd\n",
    "import numpy as np\n",
    "import matplotlib.pyplot as plt\n",
    "import seaborn as sns\n",
    "from sklearn.preprocessing import LabelEncoder\n",
    "from sklearn.model_selection import train_test_split\n",
    "from sklearn.linear_model import LogisticRegression\n",
    "from sklearn.ensemble import RandomForestClassifier\n",
    "from sklearn.metrics import classification_report, confusion_matrix\n",
    "\n",
    "# Load Dataset\n",
    "df = pd.read_csv('heart.csv')\n",
    "df.head()"
   ]
  },
  {
   "cell_type": "code",
   "execution_count": 50,
   "id": "214e83b1",
   "metadata": {},
   "outputs": [
    {
     "data": {
      "text/plain": [
       "918"
      ]
     },
     "execution_count": 50,
     "metadata": {},
     "output_type": "execute_result"
    }
   ],
   "source": [
    "# count row in dataset\n",
    "df.shape[0]"
   ]
  },
  {
   "cell_type": "code",
   "execution_count": 51,
   "id": "9d258310",
   "metadata": {},
   "outputs": [
    {
     "name": "stdout",
     "output_type": "stream",
     "text": [
      "<class 'pandas.core.frame.DataFrame'>\n",
      "RangeIndex: 918 entries, 0 to 917\n",
      "Data columns (total 12 columns):\n",
      " #   Column          Non-Null Count  Dtype  \n",
      "---  ------          --------------  -----  \n",
      " 0   Age             918 non-null    int64  \n",
      " 1   Sex             918 non-null    object \n",
      " 2   ChestPainType   918 non-null    object \n",
      " 3   RestingBP       918 non-null    int64  \n",
      " 4   Cholesterol     918 non-null    int64  \n",
      " 5   FastingBS       918 non-null    int64  \n",
      " 6   RestingECG      918 non-null    object \n",
      " 7   MaxHR           918 non-null    int64  \n",
      " 8   ExerciseAngina  918 non-null    object \n",
      " 9   Oldpeak         918 non-null    float64\n",
      " 10  ST_Slope        918 non-null    object \n",
      " 11  HeartDisease    918 non-null    int64  \n",
      "dtypes: float64(1), int64(6), object(5)\n",
      "memory usage: 86.2+ KB\n"
     ]
    }
   ],
   "source": [
    "# cheking missing values\n",
    "df.info()"
   ]
  },
  {
   "cell_type": "code",
   "execution_count": 52,
   "id": "f25f4b20",
   "metadata": {},
   "outputs": [
    {
     "name": "stderr",
     "output_type": "stream",
     "text": [
      "C:\\Users\\Lenovo\\AppData\\Local\\Temp/ipykernel_844/3669476076.py:7: DeprecationWarning: Converting `np.inexact` or `np.floating` to a dtype is deprecated. The current result is `float64` which is not strictly correct.\n",
      "  if df[column].dtype == np.number: continue\n"
     ]
    }
   ],
   "source": [
    "# convert Sex, ChestPainType, RestingECG, ExerciseAngina, ST_Slope into numeric\n",
    "# using labelencoder()\n",
    "\n",
    "encode = LabelEncoder()\n",
    "\n",
    "for column in df.columns:\n",
    "    if df[column].dtype == np.number: continue\n",
    "    df[column]= encode.fit_transform(df[column])"
   ]
  },
  {
   "cell_type": "code",
   "execution_count": 53,
   "id": "32906e5b",
   "metadata": {},
   "outputs": [
    {
     "data": {
      "text/html": [
       "<div>\n",
       "<style scoped>\n",
       "    .dataframe tbody tr th:only-of-type {\n",
       "        vertical-align: middle;\n",
       "    }\n",
       "\n",
       "    .dataframe tbody tr th {\n",
       "        vertical-align: top;\n",
       "    }\n",
       "\n",
       "    .dataframe thead th {\n",
       "        text-align: right;\n",
       "    }\n",
       "</style>\n",
       "<table border=\"1\" class=\"dataframe\">\n",
       "  <thead>\n",
       "    <tr style=\"text-align: right;\">\n",
       "      <th></th>\n",
       "      <th>Age</th>\n",
       "      <th>Sex</th>\n",
       "      <th>ChestPainType</th>\n",
       "      <th>RestingBP</th>\n",
       "      <th>Cholesterol</th>\n",
       "      <th>FastingBS</th>\n",
       "      <th>RestingECG</th>\n",
       "      <th>MaxHR</th>\n",
       "      <th>ExerciseAngina</th>\n",
       "      <th>Oldpeak</th>\n",
       "      <th>ST_Slope</th>\n",
       "      <th>HeartDisease</th>\n",
       "    </tr>\n",
       "  </thead>\n",
       "  <tbody>\n",
       "    <tr>\n",
       "      <th>0</th>\n",
       "      <td>12</td>\n",
       "      <td>1</td>\n",
       "      <td>1</td>\n",
       "      <td>41</td>\n",
       "      <td>147</td>\n",
       "      <td>0</td>\n",
       "      <td>1</td>\n",
       "      <td>98</td>\n",
       "      <td>0</td>\n",
       "      <td>0.0</td>\n",
       "      <td>2</td>\n",
       "      <td>0</td>\n",
       "    </tr>\n",
       "    <tr>\n",
       "      <th>1</th>\n",
       "      <td>21</td>\n",
       "      <td>0</td>\n",
       "      <td>2</td>\n",
       "      <td>55</td>\n",
       "      <td>40</td>\n",
       "      <td>0</td>\n",
       "      <td>1</td>\n",
       "      <td>82</td>\n",
       "      <td>0</td>\n",
       "      <td>1.0</td>\n",
       "      <td>1</td>\n",
       "      <td>1</td>\n",
       "    </tr>\n",
       "    <tr>\n",
       "      <th>2</th>\n",
       "      <td>9</td>\n",
       "      <td>1</td>\n",
       "      <td>1</td>\n",
       "      <td>31</td>\n",
       "      <td>141</td>\n",
       "      <td>0</td>\n",
       "      <td>2</td>\n",
       "      <td>25</td>\n",
       "      <td>0</td>\n",
       "      <td>0.0</td>\n",
       "      <td>2</td>\n",
       "      <td>0</td>\n",
       "    </tr>\n",
       "    <tr>\n",
       "      <th>3</th>\n",
       "      <td>20</td>\n",
       "      <td>0</td>\n",
       "      <td>0</td>\n",
       "      <td>39</td>\n",
       "      <td>72</td>\n",
       "      <td>0</td>\n",
       "      <td>1</td>\n",
       "      <td>34</td>\n",
       "      <td>1</td>\n",
       "      <td>1.5</td>\n",
       "      <td>1</td>\n",
       "      <td>1</td>\n",
       "    </tr>\n",
       "    <tr>\n",
       "      <th>4</th>\n",
       "      <td>26</td>\n",
       "      <td>1</td>\n",
       "      <td>2</td>\n",
       "      <td>49</td>\n",
       "      <td>53</td>\n",
       "      <td>0</td>\n",
       "      <td>1</td>\n",
       "      <td>48</td>\n",
       "      <td>0</td>\n",
       "      <td>0.0</td>\n",
       "      <td>2</td>\n",
       "      <td>0</td>\n",
       "    </tr>\n",
       "  </tbody>\n",
       "</table>\n",
       "</div>"
      ],
      "text/plain": [
       "   Age  Sex  ChestPainType  RestingBP  Cholesterol  FastingBS  RestingECG  \\\n",
       "0   12    1              1         41          147          0           1   \n",
       "1   21    0              2         55           40          0           1   \n",
       "2    9    1              1         31          141          0           2   \n",
       "3   20    0              0         39           72          0           1   \n",
       "4   26    1              2         49           53          0           1   \n",
       "\n",
       "   MaxHR  ExerciseAngina  Oldpeak  ST_Slope  HeartDisease  \n",
       "0     98               0      0.0         2             0  \n",
       "1     82               0      1.0         1             1  \n",
       "2     25               0      0.0         2             0  \n",
       "3     34               1      1.5         1             1  \n",
       "4     48               0      0.0         2             0  "
      ]
     },
     "execution_count": 53,
     "metadata": {},
     "output_type": "execute_result"
    }
   ],
   "source": [
    "df.head(5)\n",
    "# Sex column, 1 is Male and 0 is Female\n",
    "# ChestPainType column, 0 for ASY, 1 for ATA, 2 for NAP, 3 for TA\n",
    "# RestingECG column, 0 for LVH, 1 for Normal, 2 for ST, \n",
    "# ExerciseAngina column, 0 for N, 1 for Y\n",
    "# ST_slope column, 0 for down, 1 for flat, 2 for up"
   ]
  },
  {
   "cell_type": "code",
   "execution_count": 54,
   "id": "37e646a1",
   "metadata": {},
   "outputs": [
    {
     "data": {
      "text/html": [
       "<div>\n",
       "<style scoped>\n",
       "    .dataframe tbody tr th:only-of-type {\n",
       "        vertical-align: middle;\n",
       "    }\n",
       "\n",
       "    .dataframe tbody tr th {\n",
       "        vertical-align: top;\n",
       "    }\n",
       "\n",
       "    .dataframe thead th {\n",
       "        text-align: right;\n",
       "    }\n",
       "</style>\n",
       "<table border=\"1\" class=\"dataframe\">\n",
       "  <thead>\n",
       "    <tr style=\"text-align: right;\">\n",
       "      <th></th>\n",
       "      <th>Age</th>\n",
       "      <th>Sex</th>\n",
       "      <th>ChestPainType</th>\n",
       "      <th>RestingBP</th>\n",
       "      <th>Cholesterol</th>\n",
       "      <th>FastingBS</th>\n",
       "      <th>RestingECG</th>\n",
       "      <th>MaxHR</th>\n",
       "      <th>ExerciseAngina</th>\n",
       "      <th>Oldpeak</th>\n",
       "      <th>ST_Slope</th>\n",
       "      <th>HeartDisease</th>\n",
       "    </tr>\n",
       "  </thead>\n",
       "  <tbody>\n",
       "    <tr>\n",
       "      <th>Age</th>\n",
       "      <td>1.000000</td>\n",
       "      <td>0.055750</td>\n",
       "      <td>-0.077150</td>\n",
       "      <td>0.274459</td>\n",
       "      <td>-0.042942</td>\n",
       "      <td>0.198039</td>\n",
       "      <td>-0.007484</td>\n",
       "      <td>-0.383374</td>\n",
       "      <td>0.215793</td>\n",
       "      <td>0.258612</td>\n",
       "      <td>-0.268264</td>\n",
       "      <td>0.282039</td>\n",
       "    </tr>\n",
       "    <tr>\n",
       "      <th>Sex</th>\n",
       "      <td>0.055750</td>\n",
       "      <td>1.000000</td>\n",
       "      <td>-0.126559</td>\n",
       "      <td>0.018717</td>\n",
       "      <td>-0.190713</td>\n",
       "      <td>0.120076</td>\n",
       "      <td>0.071552</td>\n",
       "      <td>-0.189878</td>\n",
       "      <td>0.190664</td>\n",
       "      <td>0.105734</td>\n",
       "      <td>-0.150693</td>\n",
       "      <td>0.305445</td>\n",
       "    </tr>\n",
       "    <tr>\n",
       "      <th>ChestPainType</th>\n",
       "      <td>-0.077150</td>\n",
       "      <td>-0.126559</td>\n",
       "      <td>1.000000</td>\n",
       "      <td>-0.011818</td>\n",
       "      <td>0.013115</td>\n",
       "      <td>-0.073151</td>\n",
       "      <td>-0.072537</td>\n",
       "      <td>0.291560</td>\n",
       "      <td>-0.354727</td>\n",
       "      <td>-0.177377</td>\n",
       "      <td>0.213521</td>\n",
       "      <td>-0.386828</td>\n",
       "    </tr>\n",
       "    <tr>\n",
       "      <th>RestingBP</th>\n",
       "      <td>0.274459</td>\n",
       "      <td>0.018717</td>\n",
       "      <td>-0.011818</td>\n",
       "      <td>1.000000</td>\n",
       "      <td>0.113785</td>\n",
       "      <td>0.064806</td>\n",
       "      <td>0.026082</td>\n",
       "      <td>-0.109674</td>\n",
       "      <td>0.158825</td>\n",
       "      <td>0.181538</td>\n",
       "      <td>-0.074377</td>\n",
       "      <td>0.113658</td>\n",
       "    </tr>\n",
       "    <tr>\n",
       "      <th>Cholesterol</th>\n",
       "      <td>-0.042942</td>\n",
       "      <td>-0.190713</td>\n",
       "      <td>0.013115</td>\n",
       "      <td>0.113785</td>\n",
       "      <td>1.000000</td>\n",
       "      <td>-0.188082</td>\n",
       "      <td>-0.177116</td>\n",
       "      <td>0.175997</td>\n",
       "      <td>0.016763</td>\n",
       "      <td>0.066441</td>\n",
       "      <td>0.063680</td>\n",
       "      <td>-0.138663</td>\n",
       "    </tr>\n",
       "    <tr>\n",
       "      <th>FastingBS</th>\n",
       "      <td>0.198039</td>\n",
       "      <td>0.120076</td>\n",
       "      <td>-0.073151</td>\n",
       "      <td>0.064806</td>\n",
       "      <td>-0.188082</td>\n",
       "      <td>1.000000</td>\n",
       "      <td>0.087050</td>\n",
       "      <td>-0.131018</td>\n",
       "      <td>0.060451</td>\n",
       "      <td>0.052698</td>\n",
       "      <td>-0.175774</td>\n",
       "      <td>0.267291</td>\n",
       "    </tr>\n",
       "    <tr>\n",
       "      <th>RestingECG</th>\n",
       "      <td>-0.007484</td>\n",
       "      <td>0.071552</td>\n",
       "      <td>-0.072537</td>\n",
       "      <td>0.026082</td>\n",
       "      <td>-0.177116</td>\n",
       "      <td>0.087050</td>\n",
       "      <td>1.000000</td>\n",
       "      <td>-0.179168</td>\n",
       "      <td>0.077500</td>\n",
       "      <td>-0.020438</td>\n",
       "      <td>-0.006778</td>\n",
       "      <td>0.057384</td>\n",
       "    </tr>\n",
       "    <tr>\n",
       "      <th>MaxHR</th>\n",
       "      <td>-0.383374</td>\n",
       "      <td>-0.189878</td>\n",
       "      <td>0.291560</td>\n",
       "      <td>-0.109674</td>\n",
       "      <td>0.175997</td>\n",
       "      <td>-0.131018</td>\n",
       "      <td>-0.179168</td>\n",
       "      <td>1.000000</td>\n",
       "      <td>-0.376149</td>\n",
       "      <td>-0.164617</td>\n",
       "      <td>0.346587</td>\n",
       "      <td>-0.402627</td>\n",
       "    </tr>\n",
       "    <tr>\n",
       "      <th>ExerciseAngina</th>\n",
       "      <td>0.215793</td>\n",
       "      <td>0.190664</td>\n",
       "      <td>-0.354727</td>\n",
       "      <td>0.158825</td>\n",
       "      <td>0.016763</td>\n",
       "      <td>0.060451</td>\n",
       "      <td>0.077500</td>\n",
       "      <td>-0.376149</td>\n",
       "      <td>1.000000</td>\n",
       "      <td>0.408752</td>\n",
       "      <td>-0.428706</td>\n",
       "      <td>0.494282</td>\n",
       "    </tr>\n",
       "    <tr>\n",
       "      <th>Oldpeak</th>\n",
       "      <td>0.258612</td>\n",
       "      <td>0.105734</td>\n",
       "      <td>-0.177377</td>\n",
       "      <td>0.181538</td>\n",
       "      <td>0.066441</td>\n",
       "      <td>0.052698</td>\n",
       "      <td>-0.020438</td>\n",
       "      <td>-0.164617</td>\n",
       "      <td>0.408752</td>\n",
       "      <td>1.000000</td>\n",
       "      <td>-0.501921</td>\n",
       "      <td>0.403951</td>\n",
       "    </tr>\n",
       "    <tr>\n",
       "      <th>ST_Slope</th>\n",
       "      <td>-0.268264</td>\n",
       "      <td>-0.150693</td>\n",
       "      <td>0.213521</td>\n",
       "      <td>-0.074377</td>\n",
       "      <td>0.063680</td>\n",
       "      <td>-0.175774</td>\n",
       "      <td>-0.006778</td>\n",
       "      <td>0.346587</td>\n",
       "      <td>-0.428706</td>\n",
       "      <td>-0.501921</td>\n",
       "      <td>1.000000</td>\n",
       "      <td>-0.558771</td>\n",
       "    </tr>\n",
       "    <tr>\n",
       "      <th>HeartDisease</th>\n",
       "      <td>0.282039</td>\n",
       "      <td>0.305445</td>\n",
       "      <td>-0.386828</td>\n",
       "      <td>0.113658</td>\n",
       "      <td>-0.138663</td>\n",
       "      <td>0.267291</td>\n",
       "      <td>0.057384</td>\n",
       "      <td>-0.402627</td>\n",
       "      <td>0.494282</td>\n",
       "      <td>0.403951</td>\n",
       "      <td>-0.558771</td>\n",
       "      <td>1.000000</td>\n",
       "    </tr>\n",
       "  </tbody>\n",
       "</table>\n",
       "</div>"
      ],
      "text/plain": [
       "                     Age       Sex  ChestPainType  RestingBP  Cholesterol  \\\n",
       "Age             1.000000  0.055750      -0.077150   0.274459    -0.042942   \n",
       "Sex             0.055750  1.000000      -0.126559   0.018717    -0.190713   \n",
       "ChestPainType  -0.077150 -0.126559       1.000000  -0.011818     0.013115   \n",
       "RestingBP       0.274459  0.018717      -0.011818   1.000000     0.113785   \n",
       "Cholesterol    -0.042942 -0.190713       0.013115   0.113785     1.000000   \n",
       "FastingBS       0.198039  0.120076      -0.073151   0.064806    -0.188082   \n",
       "RestingECG     -0.007484  0.071552      -0.072537   0.026082    -0.177116   \n",
       "MaxHR          -0.383374 -0.189878       0.291560  -0.109674     0.175997   \n",
       "ExerciseAngina  0.215793  0.190664      -0.354727   0.158825     0.016763   \n",
       "Oldpeak         0.258612  0.105734      -0.177377   0.181538     0.066441   \n",
       "ST_Slope       -0.268264 -0.150693       0.213521  -0.074377     0.063680   \n",
       "HeartDisease    0.282039  0.305445      -0.386828   0.113658    -0.138663   \n",
       "\n",
       "                FastingBS  RestingECG     MaxHR  ExerciseAngina   Oldpeak  \\\n",
       "Age              0.198039   -0.007484 -0.383374        0.215793  0.258612   \n",
       "Sex              0.120076    0.071552 -0.189878        0.190664  0.105734   \n",
       "ChestPainType   -0.073151   -0.072537  0.291560       -0.354727 -0.177377   \n",
       "RestingBP        0.064806    0.026082 -0.109674        0.158825  0.181538   \n",
       "Cholesterol     -0.188082   -0.177116  0.175997        0.016763  0.066441   \n",
       "FastingBS        1.000000    0.087050 -0.131018        0.060451  0.052698   \n",
       "RestingECG       0.087050    1.000000 -0.179168        0.077500 -0.020438   \n",
       "MaxHR           -0.131018   -0.179168  1.000000       -0.376149 -0.164617   \n",
       "ExerciseAngina   0.060451    0.077500 -0.376149        1.000000  0.408752   \n",
       "Oldpeak          0.052698   -0.020438 -0.164617        0.408752  1.000000   \n",
       "ST_Slope        -0.175774   -0.006778  0.346587       -0.428706 -0.501921   \n",
       "HeartDisease     0.267291    0.057384 -0.402627        0.494282  0.403951   \n",
       "\n",
       "                ST_Slope  HeartDisease  \n",
       "Age            -0.268264      0.282039  \n",
       "Sex            -0.150693      0.305445  \n",
       "ChestPainType   0.213521     -0.386828  \n",
       "RestingBP      -0.074377      0.113658  \n",
       "Cholesterol     0.063680     -0.138663  \n",
       "FastingBS      -0.175774      0.267291  \n",
       "RestingECG     -0.006778      0.057384  \n",
       "MaxHR           0.346587     -0.402627  \n",
       "ExerciseAngina -0.428706      0.494282  \n",
       "Oldpeak        -0.501921      0.403951  \n",
       "ST_Slope        1.000000     -0.558771  \n",
       "HeartDisease   -0.558771      1.000000  "
      ]
     },
     "execution_count": 54,
     "metadata": {},
     "output_type": "execute_result"
    }
   ],
   "source": [
    "# find correlation to get features for label prediction\n",
    "corr = df.corr()\n",
    "corr"
   ]
  },
  {
   "cell_type": "code",
   "execution_count": 55,
   "id": "f13c5d2f",
   "metadata": {},
   "outputs": [
    {
     "data": {
      "image/png": "[encoded data removed]",
      "text/plain": [
       "<Figure size 432x288 with 1 Axes>"
      ]
     },
     "metadata": {
      "needs_background": "light"
     },
     "output_type": "display_data"
    }
   ],
   "source": [
    "# Visualize Heart Disease from Age\n",
    "sns.barplot(x='HeartDisease', y='Age', data=df)\n",
    "plt.show()"
   ]
  },
  {
   "cell_type": "code",
   "execution_count": 56,
   "id": "1717248c",
   "metadata": {},
   "outputs": [
    {
     "data": {
      "image/png": "[encoded data removed]",
      "text/plain": [
       "<Figure size 432x288 with 1 Axes>"
      ]
     },
     "metadata": {
      "needs_background": "light"
     },
     "output_type": "display_data"
    }
   ],
   "source": [
    "# Visualize Heart Disease and ExerciseAngina\n",
    "sns.barplot(x='HeartDisease', y='ExerciseAngina', data=df)\n",
    "plt.show()"
   ]
  },
  {
   "cell_type": "code",
   "execution_count": 57,
   "id": "335fe3d8",
   "metadata": {},
   "outputs": [
    {
     "data": {
      "image/png": "[encoded data removed]",
      "text/plain": [
       "<Figure size 432x288 with 1 Axes>"
      ]
     },
     "metadata": {
      "needs_background": "light"
     },
     "output_type": "display_data"
    }
   ],
   "source": [
    "# Visualisze Heart Disease and FastingBS\n",
    "sns.barplot(x='HeartDisease', y='FastingBS', data=df)\n",
    "plt.show()"
   ]
  },
  {
   "cell_type": "code",
   "execution_count": 58,
   "id": "e9972a44",
   "metadata": {},
   "outputs": [],
   "source": [
    "# Make Feature and label for training and testing data\n",
    "X = df.drop('HeartDisease', axis=1)\n",
    "y = df['HeartDisease']\n",
    "\n",
    "# Spliting Dataset\n",
    "X_train, X_test, y_train, y_test = train_test_split(X,y, test_size=0.2, random_state=0)"
   ]
  },
  {
   "cell_type": "code",
   "execution_count": 59,
   "id": "91879f1d",
   "metadata": {},
   "outputs": [
    {
     "name": "stdout",
     "output_type": "stream",
     "text": [
      "Classification Report Training Model (Random Forest):\n",
      "              precision    recall  f1-score   support\n",
      "\n",
      "           0       1.00      1.00      1.00       333\n",
      "           1       1.00      1.00      1.00       401\n",
      "\n",
      "    accuracy                           1.00       734\n",
      "   macro avg       1.00      1.00      1.00       734\n",
      "weighted avg       1.00      1.00      1.00       734\n",
      "\n"
     ]
    }
   ],
   "source": [
    "# make model using RandomForestClassifier()\n",
    "\n",
    "rdf_model = RandomForestClassifier().fit(X_train, y_train)\n",
    "\n",
    "#peformance model training\n",
    "\n",
    "y_train_pred1 = rdf_model.predict(X_train)\n",
    "print('Classification Report Training Model (Random Forest):')\n",
    "cr = classification_report(y_pred, y_train_pred1)\n",
    "print(cr)"
   ]
  },
  {
   "cell_type": "code",
   "execution_count": 60,
   "id": "8a0c5c46",
   "metadata": {},
   "outputs": [
    {
     "name": "stdout",
     "output_type": "stream",
     "text": [
      "Classification Report Testing Model (Random Forest):\n",
      "              precision    recall  f1-score   support\n",
      "\n",
      "           0       0.82      0.78      0.80        77\n",
      "           1       0.85      0.88      0.86       107\n",
      "\n",
      "    accuracy                           0.84       184\n",
      "   macro avg       0.83      0.83      0.83       184\n",
      "weighted avg       0.84      0.84      0.84       184\n",
      "\n"
     ]
    }
   ],
   "source": [
    "# peformance model testing\n",
    "y_test_pred1 = rdf_model.predict(X_test)\n",
    "print('Classification Report Testing Model (Random Forest):')\n",
    "cr = classification_report(y_test, y_test_pred1)\n",
    "print(cr)"
   ]
  },
  {
   "cell_type": "code",
   "execution_count": 61,
   "id": "1dd0e6d4",
   "metadata": {},
   "outputs": [
    {
     "name": "stdout",
     "output_type": "stream",
     "text": [
      "Classification Report Training Model (Logistic Regression):\n",
      "              precision    recall  f1-score   support\n",
      "\n",
      "           0       0.83      0.83      0.83       333\n",
      "           1       0.86      0.86      0.86       401\n",
      "\n",
      "    accuracy                           0.85       734\n",
      "   macro avg       0.85      0.85      0.85       734\n",
      "weighted avg       0.85      0.85      0.85       734\n",
      "\n"
     ]
    },
    {
     "name": "stderr",
     "output_type": "stream",
     "text": [
      "C:\\Users\\Lenovo\\AppData\\Local\\Programs\\Python\\Python39\\lib\\site-packages\\sklearn\\linear_model\\_logistic.py:763: ConvergenceWarning: lbfgs failed to converge (status=1):\n",
      "STOP: TOTAL NO. of ITERATIONS REACHED LIMIT.\n",
      "\n",
      "Increase the number of iterations (max_iter) or scale the data as shown in:\n",
      "    https://scikit-learn.org/stable/modules/preprocessing.html\n",
      "Please also refer to the documentation for alternative solver options:\n",
      "    https://scikit-learn.org/stable/modules/linear_model.html#logistic-regression\n",
      "  n_iter_i = _check_optimize_result(\n"
     ]
    }
   ],
   "source": [
    "# make model prediction using logistic regression algorithm\n",
    "\n",
    "log_model = LogisticRegression().fit(X_train, y_train)\n",
    "y_train_pred2 = log_model.predict(X_train)\n",
    "print('Classification Report Training Model (Logistic Regression):')\n",
    "cr = classification_report(y_train, y_train_pred2)\n",
    "print(cr)"
   ]
  },
  {
   "cell_type": "code",
   "execution_count": 62,
   "id": "c68610c1",
   "metadata": {},
   "outputs": [
    {
     "name": "stdout",
     "output_type": "stream",
     "text": [
      "Classification Report Testing Model (Logistic Regression):\n",
      "              precision    recall  f1-score   support\n",
      "\n",
      "           0       0.81      0.78      0.79        77\n",
      "           1       0.85      0.87      0.86       107\n",
      "\n",
      "    accuracy                           0.83       184\n",
      "   macro avg       0.83      0.82      0.83       184\n",
      "weighted avg       0.83      0.83      0.83       184\n",
      "\n"
     ]
    }
   ],
   "source": [
    "# peformance testing model in logistic regression\n",
    "y_test_pred2 = log_model.predict(X_test)\n",
    "print('Classification Report Testing Model (Logistic Regression):')\n",
    "cr = classification_report(y_test, y_test_pred2)\n",
    "print(cr)"
   ]
  },
  {
   "cell_type": "code",
   "execution_count": 83,
   "id": "a10088cd",
   "metadata": {},
   "outputs": [
    {
     "data": {
      "image/png": "[encoded data removed]",
      "text/plain": [
       "<Figure size 432x288 with 2 Axes>"
      ]
     },
     "metadata": {
      "needs_background": "light"
     },
     "output_type": "display_data"
    }
   ],
   "source": [
    "# Form confusion matrix as Dataframe in RandomForest algorithm\n",
    "# confusion matrix is use to know how much exactly true label and predicted label from machine learning model\n",
    "\n",
    "confusion_matrix_df1_train = pd.DataFrame((confusion_matrix(y_train, y_train_pred1)), \n",
    "                       ('No Heart Failure', 'Heart Failure'),('No Heart Failure', 'Heart Failure'))\n",
    "# plot confusion matrix\n",
    "plt.figure()\n",
    "heatmap = sns.heatmap(confusion_matrix_df1_train, annot=True, annot_kws={'size': 14}, fmt='d', cmap='YlGnBu')\n",
    "heatmap.yaxis.set_ticklabels(heatmap.yaxis.get_ticklabels(), rotation=0, ha='right', fontsize=14)\n",
    "heatmap.xaxis.set_ticklabels(heatmap.xaxis.get_ticklabels(), rotation=0, ha='center', fontsize=14)\n",
    "plt.title('Confusion Matrix for Training Model\\n(Random Forest)', fontsize=18, color='darkblue')\n",
    "plt.ylabel('True label', fontsize=14)\n",
    "plt.xlabel('Predicted label', fontsize=14)\n",
    "plt.show()"
   ]
  },
  {
   "cell_type": "code",
   "execution_count": 84,
   "id": "05eecff5",
   "metadata": {},
   "outputs": [
    {
     "data": {
      "image/png": "[encoded data removed]",
      "text/plain": [
       "<Figure size 432x288 with 2 Axes>"
      ]
     },
     "metadata": {
      "needs_background": "light"
     },
     "output_type": "display_data"
    }
   ],
   "source": [
    "confusion_matrix_df1_test = pd.DataFrame((confusion_matrix(y_test, y_test_pred1)), \n",
    "                       ('No Heart Failure', 'Heart Failure'),('No Heart Failure', 'Heart Failure'))\n",
    "# plot confusion matrix\n",
    "plt.figure()\n",
    "heatmap = sns.heatmap(confusion_matrix_df1_test, annot=True, annot_kws={'size': 14}, fmt='d', cmap='BuPu')\n",
    "heatmap.yaxis.set_ticklabels(heatmap.yaxis.get_ticklabels(), rotation=0, ha='right', fontsize=14)\n",
    "heatmap.xaxis.set_ticklabels(heatmap.xaxis.get_ticklabels(), rotation=0, ha='center', fontsize=14)\n",
    "plt.title('Confusion Matrix for Tesring Model\\n(Random Forest)', fontsize=18, color='darkblue')\n",
    "plt.ylabel('True label', fontsize=14)\n",
    "plt.xlabel('Predicted label', fontsize=14)\n",
    "plt.show()"
   ]
  },
  {
   "cell_type": "code",
   "execution_count": 85,
   "id": "97952e4e",
   "metadata": {},
   "outputs": [
    {
     "data": {
      "image/png": "[encoded data removed]",
      "text/plain": [
       "<Figure size 432x288 with 1 Axes>"
      ]
     },
     "metadata": {},
     "output_type": "display_data"
    }
   ],
   "source": [
    "# prosentase heart failure\n",
    "fig = plt.figure()\n",
    "ax = fig.add_axes([0,0,1,1]) # add_axes() dengan parameter [left, bottom, width, height] \n",
    "ax.axis('equal')\n",
    "labels = ['No Heart Failure', 'Heart Failure']\n",
    "heart_disease = df.HeartDisease.value_counts()\n",
    "ax.pie(heart_disease, labels=labels, autopct='%.0f%%')\n",
    "plt.show()"
   ]
  },
  {
   "cell_type": "code",
   "execution_count": 88,
   "id": "b38325ef",
   "metadata": {},
   "outputs": [
    {
     "data": {
      "image/png": "[encoded data removed]",
      "text/plain": [
       "<Figure size 1008x864 with 4 Axes>"
      ]
     },
     "metadata": {
      "needs_background": "light"
     },
     "output_type": "display_data"
    }
   ],
   "source": [
    "# Exploratory Data Analysis\n",
    "fig, ax = plt.subplots(2, 2, figsize=(14,12))\n",
    "sns.countplot(data=df, x='Sex', hue='HeartDisease', ax=ax[0][0])\n",
    "sns.countplot(data=df, x='ChestPainType', hue='HeartDisease', ax=ax[0][1])\n",
    "sns.countplot(data=df, x='RestingECG', hue='HeartDisease', ax=ax[1][0])\n",
    "sns.countplot(data=df, x='ST_Slope', hue='HeartDisease', ax=ax[1][1])\n",
    "plt.tight_layout()\n",
    "plt.show()"
   ]
  },
  {
   "cell_type": "code",
   "execution_count": 92,
   "id": "0a71e8f0",
   "metadata": {},
   "outputs": [
    {
     "data": {
      "image/png": "[encoded data removed]",
      "text/plain": [
       "<Figure size 1080x432 with 3 Axes>"
      ]
     },
     "metadata": {
      "needs_background": "light"
     },
     "output_type": "display_data"
    }
   ],
   "source": [
    "categorical_features = ['Age','Sex','ChestPainType']\n",
    "fig, ax = plt.subplots(1, 3, figsize=(15, 6))\n",
    "# Use the following code to plot two overlays of histogram per each numerical_features, use a color of blue and orange, respectively\n",
    "df[df.HeartDisease == 0][categorical_features].hist(bins=20, color='blue', alpha=0.5, ax=ax)\n",
    "df[df.HeartDisease == 1][categorical_features].hist(bins=20, color='orange', alpha=0.5, ax=ax)\n",
    "plt.show()"
   ]
  }
 ],
 "metadata": {
  "kernelspec": {
   "display_name": "Python 3 (ipykernel)",
   "language": "python",
   "name": "python3"
  },
  "language_info": {
   "codemirror_mode": {
    "name": "ipython",
    "version": 3
   },
   "file_extension": ".py",
   "mimetype": "text/x-python",
   "name": "python",
   "nbconvert_exporter": "python",
   "pygments_lexer": "ipython3",
   "version": "3.9.7"
  }
 },
 "nbformat": 4,
 "nbformat_minor": 5
}
